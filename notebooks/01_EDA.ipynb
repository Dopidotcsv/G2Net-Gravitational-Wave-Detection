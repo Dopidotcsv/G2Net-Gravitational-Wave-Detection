{
 "cells": [
  {
   "cell_type": "markdown",
   "id": "2b2a00bc",
   "metadata": {},
   "source": [
    "# Exploratory Data Analysis"
   ]
  },
  {
   "cell_type": "markdown",
   "id": "947758bf",
   "metadata": {},
   "source": [
    "Due the characterstics of the data in this EDA we'll plot the data using different techinques such as plotting in time domain or in frequency domain."
   ]
  },
  {
   "cell_type": "markdown",
   "id": "04fa3b1b",
   "metadata": {},
   "source": [
    "### Libraries"
   ]
  },
  {
   "cell_type": "code",
   "execution_count": null,
   "id": "bebe6f97",
   "metadata": {},
   "outputs": [],
   "source": [
    "import numpy as np # linear algebra\n",
    "import pandas as pd # data processing, CSV file I/O (e.g. pd.read_csv)\n",
    "pd.set_option(\"display.max_colwidth\", None) # setting the maximum width in characters when displaying pandas column. \"None\" value means unlimited.\n",
    "\n",
    "import matplotlib.pyplot as plt  # plotting\n",
    "from glob import glob     # pathname management\n",
    "\n",
    "import seaborn as sns\n",
    "from scipy.interpolate import interp1d  # interpolating a 1-D function\n",
    "import matplotlib.mlab as mlab  # some MATLAB commands\n",
    "\n",
    "import librosa\n",
    "import librosa.display"
   ]
  },
  {
   "cell_type": "markdown",
   "id": "dd59447a",
   "metadata": {},
   "source": [
    "### Setup variables"
   ]
  },
  {
   "cell_type": "code",
   "execution_count": null,
   "id": "a89510da",
   "metadata": {},
   "outputs": [],
   "source": [
    "training_labels=pd.read_csv(\"data/training_labels.csv\")\n",
    "training_labels.head()"
   ]
  },
  {
   "cell_type": "markdown",
   "id": "43f45136",
   "metadata": {},
   "source": [
    "To make things easier let's merge the path of the file into the df with the target"
   ]
  },
  {
   "cell_type": "markdown",
   "id": "476a09fd",
   "metadata": {},
   "source": [
    "With glob we can get all the files in the train directory"
   ]
  },
  {
   "cell_type": "code",
   "execution_count": null,
   "id": "042554a4",
   "metadata": {},
   "outputs": [],
   "source": [
    "training_paths = glob(\"D:/Projects/G2Net-Gravitational-Wave-Detection/data/train/*/*/*/*\")\n",
    "print(\"The total number of files in the training set:\", len(training_paths))"
   ]
  },
  {
   "cell_type": "code",
   "execution_count": null,
   "id": "dfa45a1c",
   "metadata": {},
   "outputs": [],
   "source": [
    "ids = [path.split(\"\\\\\")[-1].split(\".\")[0] for path in training_paths]\n",
    "paths_df = pd.DataFrame({\"path\":training_paths, \"id\": ids})\n",
    "train_data = pd.merge(left=training_labels, right=paths_df, on=\"id\")\n",
    "train_data.head()"
   ]
  },
  {
   "cell_type": "code",
   "execution_count": null,
   "id": "8b929ac4",
   "metadata": {},
   "outputs": [],
   "source": [
    "train_data.to_csv(\"data/data_path.csv\")"
   ]
  },
  {
   "cell_type": "markdown",
   "id": "8c643eea",
   "metadata": {},
   "source": [
    "## Plots"
   ]
  },
  {
   "cell_type": "markdown",
   "id": "9803a3b3",
   "metadata": {},
   "source": [
    "Let's check if the source data target is balanced"
   ]
  },
  {
   "cell_type": "code",
   "execution_count": null,
   "id": "78e7bd4f",
   "metadata": {},
   "outputs": [],
   "source": [
    "train_data['target'].value_counts()"
   ]
  },
  {
   "cell_type": "code",
   "execution_count": null,
   "id": "0a92a2df",
   "metadata": {},
   "outputs": [],
   "source": [
    "sns.countplot(data=train_data, x=\"target\")"
   ]
  },
  {
   "cell_type": "markdown",
   "id": "ea252c96",
   "metadata": {},
   "source": [
    "As we can see the source data is balanced."
   ]
  },
  {
   "cell_type": "markdown",
   "id": "57b2c057",
   "metadata": {},
   "source": [
    "Let's plot the signals"
   ]
  },
  {
   "cell_type": "code",
   "execution_count": null,
   "id": "d6e6bbae",
   "metadata": {},
   "outputs": [],
   "source": [
    "def plot_raw_data(path,\n",
    "           df,\n",
    "           target,\n",
    "           labels = ('LIGO Hanford', 'LIGO Livingston', 'Virgo')\n",
    "):\n",
    "    sample_id = df[df['target'] == target].sample(random_state=42)['id'].values[0]\n",
    "    sample_id = int(sample_id)\n",
    "    training_files = glob(path)\n",
    "    data = np.load(training_files[sample_id])\n",
    "    fig, ax = plt.subplots(3,1,figsize=(12,10), sharey= True) \n",
    "    for i in range(3):\n",
    "        \n",
    "        plt.suptitle(f\"Strain data for three observatories from sample: {sample_id} | Target: {target}\")\n",
    "        sns.lineplot(data=data[i], ax=ax[i], color=sns.color_palette()[i])\n",
    "        ax[i].legend([labels[i]])\n",
    "        ax[i].set_xlim(0, 4096)\n",
    "        ax[i].set_xticks(ticks=[0, 2048, 4096])\n",
    "        ax[i].set_xticklabels(labels=[0, 1, 2])\n",
    "   "
   ]
  },
  {
   "cell_type": "code",
   "execution_count": null,
   "id": "f454f6f2",
   "metadata": {},
   "outputs": [],
   "source": [
    "# plot the sample with gravitational wave signal\n",
    "plot_raw_data(training_paths,1)"
   ]
  },
  {
   "cell_type": "code",
   "execution_count": null,
   "id": "8d542d3a",
   "metadata": {},
   "outputs": [],
   "source": [
    "# plot the sample without gravitational wave signal\n",
    "plot_raw_data(training_paths,0)"
   ]
  },
  {
   "cell_type": "markdown",
   "id": "2a82f1dd",
   "metadata": {},
   "source": [
    "Descibir que se ve royo :\n",
    "\n",
    "The three plots above show the strain values sampled for 2s at 2048 Hz for id 882722dba9. Out of the three readings, the two LIGO values are similar in amplitude while the Virgo is smaller. Even though this particular sample has gravitaional wave signal, it is burried deep in the instrument noise.\n"
   ]
  },
  {
   "cell_type": "markdown",
   "id": "5658242f",
   "metadata": {},
   "source": [
    "Similarly, for the sample 05552e5b6a without gravitational wave signal, we cannot visually see any signs. The strain is of the order , which is extremely small and can be affected by many external factors. However, as seen in both the sample plots, the strain data is a combination of many frequencies and analysing the signals in frequency domain, instead of the time domain, might give us better insights.\n",
    "\n",
    "A Fourier Transform is the most commonly used method in maths and signal processing, to decompose the signals into its constituent discrete frequencies. This spectrum of frequencies can be analyzed based on average, power or energy of the signal to get a spectral density plot. We will follow some of the concepts from this tutorial. As it says, one of the ways to visualize a raw signal in frequency domain is by plotting the amplitude spectral density (ASD)."
   ]
  },
  {
   "cell_type": "markdown",
   "id": "c0b6513c",
   "metadata": {},
   "source": [
    "### Spectral density plots"
   ]
  },
  {
   "cell_type": "code",
   "execution_count": null,
   "id": "1f929a69",
   "metadata": {},
   "outputs": [],
   "source": [
    "# let's define some signal parameters\n",
    "sample_rate = 2048 # data is provided at 2048 Hz\n",
    "signal_length = 2 # each signal lasts 2 s\n",
    "#NFFT = 4*fs    # the Nyquist frequency -\n",
    "f_min = 20.\n",
    "#f_max = fs/2"
   ]
  },
  {
   "cell_type": "code",
   "execution_count": null,
   "id": "772da6db",
   "metadata": {},
   "outputs": [],
   "source": [
    "# function to plot the amplitude spectral density (ASD) plot\n",
    "def plot_asd(path,\n",
    "             df,\n",
    "             target,\n",
    "             signal_length,\n",
    "             sample_rate,\n",
    "             labels = ('LIGO Hanford', 'LIGO Livingston', 'Virgo')\n",
    "):\n",
    "    sample_id = df[df['target'] == target].sample(random_state=42)['id'].values[0]\n",
    "    sample_id = int(sample_id)\n",
    "    training_files = glob(path)\n",
    "    data = np.load(training_files[sample_id])\n",
    "\n",
    "    for i in range(data.shape[0]):\n",
    "        \n",
    "        ts = TimeSeries(data[i], sample_rate=sample_rate)\n",
    "        ax = ts.asd(signal_length).plot(figsize=(12, 5)).gca()\n",
    "        ax.set_xlim(10, 1024);\n",
    "        ax.set_title(f\"ASD plots for sample: {sample_id} from {labels[i]}\")\n",
    "        "
   ]
  },
  {
   "cell_type": "code",
   "execution_count": null,
   "id": "33c4350f",
   "metadata": {},
   "outputs": [],
   "source": [
    "def plot_asd_mix(path,\n",
    "                 df,\n",
    "                 target,\n",
    "                 sample_rate,\n",
    "                 NFFT,\n",
    "                 f_min,\n",
    "                 f_max,\n",
    "                 labels = ('LIGO Hanford', 'LIGO Livingston', 'Virgo')):\n",
    "    \n",
    "    sample_id = df[df['target'] == target].sample(random_state=42)['id'].values[0]\n",
    "    sample_id = int(sample_id)\n",
    "    training_files = glob(path)\n",
    "    sample = np.load(training_files[sample_id])\n",
    "    \n",
    "   \n",
    "    Pxx_1, freqs = mlab.psd(sample[0], Fs = sample_rate, NFFT = NFFT)\n",
    "    Pxx_2, freqs = mlab.psd(sample[1], Fs = sample_rate, NFFT = NFFT)\n",
    "    Pxx_3, freqs = mlab.psd(sample[2], Fs = sample_rate, NFFT = NFFT)\n",
    "\n",
    "    psd_1 = interp1d(freqs, Pxx_1)\n",
    "    psd_2 = interp1d(freqs, Pxx_2)\n",
    "    psd_3 = interp1d(freqs, Pxx_3)\n",
    "\n",
    "    fig, ax = plt.subplots(ncols=1, nrows=1, figsize=(10, 5))\n",
    "    ax.loglog(freqs, np.sqrt(Pxx_1),\"g\",label=labels[0])\n",
    "    ax.loglog(freqs, np.sqrt(Pxx_2),\"r\",label=labels[1])\n",
    "    ax.loglog(freqs, np.sqrt(Pxx_3),\"b\",label=labels[2])\n",
    "\n",
    "    ax.set_xlim([f_min, f_max])\n",
    "    ax.set_xlabel(\"Frequency (Hz)\")\n",
    "    ax.set_ylabel(\"Hz^-1/2\")\n",
    "    ax.set_title(f\"ASD plots for sample: {sample_id}\");\n",
    "    ax.legend()\n",
    "\n",
    "    plt.show()"
   ]
  },
  {
   "cell_type": "code",
   "execution_count": null,
   "id": "19d0affa",
   "metadata": {},
   "outputs": [],
   "source": [
    "# plot ASD for sample w/ GW\n",
    "plot_asd(training_paths, 1, train_data, signal_length, sample_rate)"
   ]
  },
  {
   "cell_type": "code",
   "execution_count": null,
   "id": "783a471c",
   "metadata": {},
   "outputs": [],
   "source": [
    "plot_asd_mix(training_paths, 1, train_data, sample_rate NFFT,f_min,f_max,)"
   ]
  },
  {
   "cell_type": "markdown",
   "id": "2d92d275",
   "metadata": {},
   "source": [
    "These plots are plotted on a log scale for x-axis, and we see that it ranges from 10 Hz ~ 1000 Hz. Although, these limits are for visualization purposes only, it helps us see some peaks for each observatory. A particular frequency can be peculiar in one measurement but remember that the GW signal has to be detected in all three waves to be confirmed. This data here still seems a bit noisy and as showed in the tutorial, if sampled for longer periods of time (on real data), it can give some valuable insights. However, the data in this competition is simulated and we try to find other ways to visualize it.\n",
    "\n",
    "Just for the sake of completeness, we also plot the spectral density plots for a sample without GW."
   ]
  },
  {
   "cell_type": "code",
   "execution_count": null,
   "id": "c07f1e3a",
   "metadata": {},
   "outputs": [],
   "source": [
    "# plot ASD for sample w/o GW\n",
    "plot_asd(training_paths, 0, train_data, signal_length, sample_rate)"
   ]
  },
  {
   "cell_type": "code",
   "execution_count": null,
   "id": "64ba3364",
   "metadata": {},
   "outputs": [],
   "source": [
    "plot_asd_mix(training_paths, 0, train_data, sample_rate NFF\n",
    "             T,f_min,f_max,)"
   ]
  },
  {
   "cell_type": "markdown",
   "id": "a0442c0c",
   "metadata": {},
   "source": [
    "They do seem to have fewer peaks, specially around 200 Hz, but there is so much variability in this data, that it can be concluded with certainty."
   ]
  },
  {
   "cell_type": "code",
   "execution_count": null,
   "id": "99f4f7a2",
   "metadata": {},
   "outputs": [],
   "source": [
    "# function to plot the Q-transform spectrogram side-by-side\n",
    "def plot_distribution(path,\n",
    "                      df,\n",
    "                      sample_rate,\n",
    "                      signal_names,\n",
    "                      labels=(\"LIGO Hanford\", \"LIGO Livingston\", \"Virgo\")\n",
    "                        ):\n",
    "    # Get the data\n",
    "    sample_1 = df[df['target'] == 1].sample(random_state=42)['id'].values[0]\n",
    "    sample_1 = int(sample_1)\n",
    "    sample_0 = df[df['target'] == 0].sample(random_state=42)['id'].values[0]\n",
    "    sample_0 = int(sample_0)\n",
    "    training_files = glob(path)\n",
    "    sample_1 = np.load(training_files[sample_1])\n",
    "    sample_0 = np.load(training_files[sample_0])\n",
    "    \n",
    "    k = 1\n",
    "    for i in range(3):\n",
    "        plt.subplot(2, 3, k)\n",
    "        sns.distplot(sample_1[i]*10**(20), label = labels[i])\n",
    "        plt.legend()\n",
    "        plt.title('Target: 1')\n",
    "        k+=1\n",
    "    \n",
    "    \n",
    "    for i in range(3):\n",
    "        plt.subplot(2, 3, k)\n",
    "        sns.distplot(sample_0[i]*10**(20), label = labels[i], color = 'r')\n",
    "        plt.title('Target: 0')\n",
    "        plt.legend()\n",
    "        k+=1\n",
    "\n",
    "    plt.tight_layout()"
   ]
  },
  {
   "cell_type": "code",
   "execution_count": null,
   "id": "b9b73a7d",
   "metadata": {},
   "outputs": [],
   "source": [
    "plot_distribution(training_paths, 1, train_data, signal_length, sample_rate)"
   ]
  },
  {
   "cell_type": "code",
   "execution_count": null,
   "id": "da8afa26",
   "metadata": {},
   "outputs": [],
   "source": [
    "plot_distribution(training_paths, 0, train_data, signal_length, sample_rate)"
   ]
  },
  {
   "cell_type": "code",
   "execution_count": null,
   "id": "a93d38cd",
   "metadata": {},
   "outputs": [],
   "source": []
  },
  {
   "cell_type": "code",
   "execution_count": null,
   "id": "59fe2972",
   "metadata": {},
   "outputs": [],
   "source": []
  }
 ],
 "metadata": {
  "kernelspec": {
   "display_name": "Python 3 (ipykernel)",
   "language": "python",
   "name": "python3"
  },
  "language_info": {
   "codemirror_mode": {
    "name": "ipython",
    "version": 3
   },
   "file_extension": ".py",
   "mimetype": "text/x-python",
   "name": "python",
   "nbconvert_exporter": "python",
   "pygments_lexer": "ipython3",
   "version": "3.9.12"
  }
 },
 "nbformat": 4,
 "nbformat_minor": 5
}
