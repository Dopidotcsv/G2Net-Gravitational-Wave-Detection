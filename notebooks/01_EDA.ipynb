{
 "cells": [
  {
   "cell_type": "markdown",
   "id": "472938d7",
   "metadata": {},
   "source": [
    "# Exploratory Data Analysis"
   ]
  },
  {
   "cell_type": "markdown",
   "id": "7fb98407",
   "metadata": {},
   "source": [
    "Due the characterstics of the data in this EDA we'll plot the data using different techinques such as plotting in time domain or in frequency domain."
   ]
  },
  {
   "cell_type": "markdown",
   "id": "d5255f66",
   "metadata": {},
   "source": [
    "### Libraries"
   ]
  },
  {
   "cell_type": "code",
   "execution_count": null,
   "id": "8e4c49ff",
   "metadata": {},
   "outputs": [],
   "source": [
    "import numpy as np # linear algebra\n",
    "import pandas as pd # data processing, CSV file I/O (e.g. pd.read_csv)\n",
    "pd.set_option(\"display.max_colwidth\", None) # setting the maximum width in characters when displaying pandas column. \"None\" value means unlimited.\n",
    "\n",
    "import matplotlib.pyplot as plt  # plotting\n",
    "from glob import glob     # pathname management\n",
    "\n",
    "import random    # generating (pseudo)-random numbers\n",
    "import seaborn as sns # for data visualization\n",
    "import matplotlib.mlab as mlab  # some MATLAB commands\n",
    "from scipy.interpolate import interp1d  # interpolating a 1-D function\n",
    "from src.plot.plot import *"
   ]
  },
  {
   "cell_type": "code",
   "execution_count": null,
   "id": "5bedac93",
   "metadata": {},
   "outputs": [],
   "source": [
    "!pip install gwpy\n",
    "import gwpy"
   ]
  },
  {
   "cell_type": "code",
   "execution_count": null,
   "id": "72cb2d08",
   "metadata": {},
   "outputs": [],
   "source": [
    "from src.plot.plot import *"
   ]
  },
  {
   "cell_type": "markdown",
   "id": "3f660337",
   "metadata": {},
   "source": [
    "### Reading the files"
   ]
  },
  {
   "cell_type": "code",
   "execution_count": null,
   "id": "66938496",
   "metadata": {},
   "outputs": [],
   "source": [
    "training_labels=pd.read_csv(\"data/training_labels.csv\")\n",
    "training_labels.head()"
   ]
  },
  {
   "cell_type": "markdown",
   "id": "12a6eade",
   "metadata": {},
   "source": [
    "Let's check if the source data target is balanced"
   ]
  },
  {
   "cell_type": "code",
   "execution_count": null,
   "id": "3404acbe",
   "metadata": {},
   "outputs": [],
   "source": [
    "training_labels['target'].value_counts()"
   ]
  },
  {
   "cell_type": "code",
   "execution_count": null,
   "id": "f6664c1e",
   "metadata": {},
   "outputs": [],
   "source": [
    "sns.countplot(data=train_df, x=\"target\")"
   ]
  },
  {
   "cell_type": "markdown",
   "id": "cc458c10",
   "metadata": {},
   "source": [
    "As we can see the source data is balanced.\n",
    "\n",
    "To make things easier let's merge the path of the file into the df with the target"
   ]
  },
  {
   "cell_type": "code",
   "execution_count": null,
   "id": "27d9b428",
   "metadata": {},
   "outputs": [],
   "source": [
    "training_paths = glob(\"../input/g2net-gravitational-wave-detection/train/*/*/*/*\")\n",
    "print(\"The total number of files in the training set:\", len(training_paths))"
   ]
  },
  {
   "cell_type": "markdown",
   "id": "1ad30382",
   "metadata": {},
   "source": [
    "With glob we can get all the files in the train directory"
   ]
  },
  {
   "cell_type": "code",
   "execution_count": null,
   "id": "29cb5717",
   "metadata": {},
   "outputs": [],
   "source": [
    "ids = [path.split(\"/\")[-1].split(\".\")[0] for path in training_paths]\n",
    "paths_df = pd.DataFrame({\"path\":training_paths, \"id\": ids})\n",
    "train_data = pd.merge(left=training_labels, right=paths_df, on=\"id\")\n",
    "train_data.head()"
   ]
  },
  {
   "cell_type": "code",
   "execution_count": null,
   "id": "c5d1ef7c",
   "metadata": {},
   "outputs": [],
   "source": [
    "train_data.to_csv(\"data/data_path.csv\")"
   ]
  },
  {
   "cell_type": "code",
   "execution_count": null,
   "id": "7ad70906",
   "metadata": {},
   "outputs": [],
   "source": [
    "# draw a random sample from the train data\n",
    "sample_gw_id = train_data[train_data['target'] == 1].sample(random_state=42)['id'].values[0]"
   ]
  },
  {
   "cell_type": "code",
   "execution_count": null,
   "id": "4ce074e6",
   "metadata": {},
   "outputs": [],
   "source": [
    "# plot the sample with gravitational wave signal\n",
    "visualize_sample(sample_gw_id)"
   ]
  },
  {
   "cell_type": "markdown",
   "id": "9b7f72ec",
   "metadata": {},
   "source": [
    "Descibir que se ve royo :\n",
    "\n",
    "The three plots above show the strain values sampled for 2s at 2048 Hz for id 882722dba9. Out of the three readings, the two LIGO values are similar in amplitude while the Virgo is smaller. Even though this particular sample has gravitaional wave signal, it is burried deep in the instrument noise.\n"
   ]
  },
  {
   "cell_type": "code",
   "execution_count": null,
   "id": "424f299c",
   "metadata": {},
   "outputs": [],
   "source": [
    "# draw another random sample from train without gravitational wave signal\n",
    "sample_no_gw_id = train_data[train_data['target'] == 0].sample(random_state=42)['id'].values[0]"
   ]
  },
  {
   "cell_type": "code",
   "execution_count": null,
   "id": "0697d788",
   "metadata": {},
   "outputs": [],
   "source": [
    "# plot the sample without gravitational wave signal\n",
    "visualize_sample(sample_no_gw_id)"
   ]
  },
  {
   "cell_type": "markdown",
   "id": "4b066cc5",
   "metadata": {},
   "source": [
    "Similarly, for the sample 05552e5b6a without gravitational wave signal, we cannot visually see any signs. The strain is of the order , which is extremely small and can be affected by many external factors. However, as seen in both the sample plots, the strain data is a combination of many frequencies and analysing the signals in frequency domain, instead of the time domain, might give us better insights.\n",
    "\n",
    "A Fourier Transform is the most commonly used method in maths and signal processing, to decompose the signals into its constituent discrete frequencies. This spectrum of frequencies can be analyzed based on average, power or energy of the signal to get a spectral density plot. We will follow some of the concepts from this tutorial. As it says, one of the ways to visualize a raw signal in frequency domain is by plotting the amplitude spectral density (ASD)."
   ]
  },
  {
   "cell_type": "markdown",
   "id": "2ff4cec6",
   "metadata": {},
   "source": [
    "Spectral density plots"
   ]
  },
  {
   "cell_type": "code",
   "execution_count": null,
   "id": "bd8c4e19",
   "metadata": {},
   "outputs": [],
   "source": [
    "# let's define some signal parameters\n",
    "sample_rate = 2048 # data is provided at 2048 Hz\n",
    "signal_length = 2 # each signal lasts 2 s\n",
    "NFFT = 4*fs    # the Nyquist frequency -\n",
    "f_min = 20.\n",
    "f_max = fs/2"
   ]
  },
  {
   "cell_type": "code",
   "execution_count": null,
   "id": "55405742",
   "metadata": {},
   "outputs": [],
   "source": [
    "# plot ASD for sample w/ GW\n",
    "plot_asd(sample_gw_id,sample_rate,signal_length)"
   ]
  },
  {
   "cell_type": "code",
   "execution_count": null,
   "id": "496e3e3c",
   "metadata": {},
   "outputs": [],
   "source": [
    "plot_asd_mix(sample_gw_id,sample_rate,NFFT,f_min,f_max)"
   ]
  },
  {
   "cell_type": "markdown",
   "id": "1f349bb4",
   "metadata": {},
   "source": [
    "These plots are plotted on a log scale for x-axis, and we see that it ranges from 10 Hz ~ 1000 Hz. Although, these limits are for visualization purposes only, it helps us see some peaks for each observatory. A particular frequency can be peculiar in one measurement but remember that the GW signal has to be detected in all three waves to be confirmed. This data here still seems a bit noisy and as showed in the tutorial, if sampled for longer periods of time (on real data), it can give some valuable insights. However, the data in this competition is simulated and we try to find other ways to visualize it.\n",
    "\n",
    "Just for the sake of completeness, we also plot the spectral density plots for a sample without GW."
   ]
  },
  {
   "cell_type": "code",
   "execution_count": null,
   "id": "46b295c6",
   "metadata": {},
   "outputs": [],
   "source": [
    "# plot ASD for sample w/o GW\n",
    "plot_asd(sample_no_gw_id)"
   ]
  },
  {
   "cell_type": "code",
   "execution_count": null,
   "id": "0ae18e5b",
   "metadata": {},
   "outputs": [],
   "source": [
    "plot_asd_mix(sample_no_gw_id,sample_rate,NFFT,f_min,f_max)"
   ]
  },
  {
   "cell_type": "markdown",
   "id": "a6b270a7",
   "metadata": {},
   "source": [
    "They do seem to have fewer peaks, specially around 200 Hz, but there is so much variability in this data, that it can be concluded with certainty."
   ]
  }
 ],
 "metadata": {
  "kernelspec": {
   "display_name": "Python 3 (ipykernel)",
   "language": "python",
   "name": "python3"
  },
  "language_info": {
   "codemirror_mode": {
    "name": "ipython",
    "version": 3
   },
   "file_extension": ".py",
   "mimetype": "text/x-python",
   "name": "python",
   "nbconvert_exporter": "python",
   "pygments_lexer": "ipython3",
   "version": "3.9.12"
  }
 },
 "nbformat": 4,
 "nbformat_minor": 5
}
