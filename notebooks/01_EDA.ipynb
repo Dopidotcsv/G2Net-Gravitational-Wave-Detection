{
 "cells": [
  {
   "cell_type": "code",
   "execution_count": null,
   "id": "05c65ea2",
   "metadata": {},
   "outputs": [],
   "source": [
    "https://github.com/PraveenThakkannavar/G2Net-Gravitational-Wave-Detection/blob/main/SIMPLE_CNN.ipynb"
   ]
  },
  {
   "cell_type": "code",
   "execution_count": null,
   "id": "cfbd23f7",
   "metadata": {},
   "outputs": [],
   "source": [
    "train_label_dataset = pd.read_csv(\"../input/g2net-gravitational-wave-detection/training_labels.csv\")\n",
    "train_label_dataset.head()"
   ]
  },
  {
   "cell_type": "code",
   "execution_count": null,
   "id": "cb8e58b0",
   "metadata": {},
   "outputs": [],
   "source": [
    "\n",
    "train_label_dataset.shape"
   ]
  },
  {
   "cell_type": "code",
   "execution_count": null,
   "id": "7e13270b",
   "metadata": {},
   "outputs": [],
   "source": [
    "sns.countplot(data=train_label_dataset, x=\"target\")"
   ]
  },
  {
   "cell_type": "code",
   "execution_count": null,
   "id": "4b00746e",
   "metadata": {},
   "outputs": [],
   "source": [
    "train_label_dataset['target'].value_counts()"
   ]
  },
  {
   "cell_type": "code",
   "execution_count": null,
   "id": "ae640616",
   "metadata": {},
   "outputs": [],
   "source": [
    "train_label_dataset.isnull().sum() # no null"
   ]
  },
  {
   "cell_type": "code",
   "execution_count": null,
   "id": "59f62dd8",
   "metadata": {},
   "outputs": [],
   "source": [
    "train_path = glob('../input/g2net-gravitational-wave-detection/train/*/*/*/*')"
   ]
  },
  {
   "cell_type": "code",
   "execution_count": null,
   "id": "c4b63e21",
   "metadata": {},
   "outputs": [],
   "source": [
    "len(train_path)"
   ]
  },
  {
   "cell_type": "code",
   "execution_count": null,
   "id": "2237aee6",
   "metadata": {},
   "outputs": [],
   "source": [
    "explore_sample_3 = np.load(train_path[3])\n",
    "explore_sample_3"
   ]
  },
  {
   "cell_type": "code",
   "execution_count": null,
   "id": "26930829",
   "metadata": {},
   "outputs": [],
   "source": [
    "explore_sample_3.shape"
   ]
  },
  {
   "cell_type": "code",
   "execution_count": null,
   "id": "2c60e92d",
   "metadata": {},
   "outputs": [],
   "source": [
    "print(len(explore_sample_3[0]), len(explore_sample_3[1]), len(explore_sample_3[2]))"
   ]
  },
  {
   "cell_type": "markdown",
   "id": "e8623bfb",
   "metadata": {},
   "source": [
    "plot"
   ]
  },
  {
   "cell_type": "code",
   "execution_count": null,
   "id": "bb5b586a",
   "metadata": {},
   "outputs": [],
   "source": [
    "colors = (\"red\", \"green\", \"blue\")\n",
    "signal_names = (\"LIGO Hanford\", \"LIGO Livingston\", \"Virgo\")\n",
    "\n",
    "for x, i in tqdm(zip(samples, targets)):\n",
    "    figure = plt.figure(figsize=(16, 7))\n",
    "    figure.suptitle(f'Raw wave (target={i})', fontsize=20)\n",
    "    # range is 3 because we have 3 different rows for each interferometers\n",
    "    for j in range(3):\n",
    "        axes = figure.add_subplot(3, 1, j+1)\n",
    "        librosa.display.waveshow(x[j], sr=2048, ax=axes, color=colors[j])\n",
    "        axes.set_title(signal_names[j], fontsize=12)\n",
    "        axes.set_xlabel('Time[sec]')\n",
    "    plt.tight_layout()\n",
    "    plt.show()"
   ]
  },
  {
   "cell_type": "code",
   "execution_count": null,
   "id": "adc47e6e",
   "metadata": {},
   "outputs": [],
   "source": [
    "pd.set_option('display.max_colwidth',None)"
   ]
  },
  {
   "cell_type": "code",
   "execution_count": null,
   "id": "9feb23e8",
   "metadata": {},
   "outputs": [],
   "source": [
    "ids = []\n",
    "for files in train_path:\n",
    "    ids.append(files[files.rindex('/')+1:].replace('.npy',''))\n",
    "df = pd.DataFrame({\"id\":ids,\"path\":train_path})\n",
    "df = pd.merge(df, train_label_dataset, on='id')"
   ]
  },
  {
   "cell_type": "code",
   "execution_count": null,
   "id": "f2d854b5",
   "metadata": {},
   "outputs": [],
   "source": [
    "df.head()"
   ]
  },
  {
   "cell_type": "code",
   "execution_count": null,
   "id": "ad8f34c3",
   "metadata": {},
   "outputs": [],
   "source": [
    "def load_random_file(signal = None):\n",
    "    \"\"\"Selecting a random file from the training dataset. \n",
    "    \n",
    "    Args:\n",
    "        signal: bool\n",
    "            optional flag defining whether to select pure detector \n",
    "            noise (False) or detector noise plus simulated signal (True).\n",
    "            If skipped, the flag is chosen randomly.\n",
    "    Returns:\n",
    "        file_id: str\n",
    "            unique id of the selected file\n",
    "        target: int\n",
    "            0 or 1, target value\n",
    "        data: numpy.ndarray\n",
    "            numpy array in the shape (3, 4096), where 3 is the number\n",
    "            of detectors, 4096 is number of data points (each time series\n",
    "            instance spans over 2 seconds and is sampled at 2048 Hz)\n",
    "        \n",
    "    \"\"\"    \n",
    "    if signal is None:\n",
    "        signal = random.choice([True, False])\n",
    "        \n",
    "    filtered = train_data[\"target\"]==signal   # filtering dataframe based on the target value\n",
    "    \n",
    "    index = random.choice(train_data[filtered].index)   # random index \n",
    "    \n",
    "    file_id = train_data['id'].at[index]\n",
    "    target = train_data['target'].at[index]\n",
    "    path = train_data['path'].at[index]\n",
    "    \n",
    "    data = np.load(path)\n",
    "    \n",
    "    return file_id, target, data"
   ]
  },
  {
   "cell_type": "code",
   "execution_count": null,
   "id": "c5862a88",
   "metadata": {},
   "outputs": [],
   "source": [
    "file_id, target, data = load_random_file()\n",
    "ylim = 1.1*np.max(data)\n",
    "\n",
    "plt.style.use('ggplot')\n",
    "\n",
    "fig, axs = plt.subplots(ncols=1, nrows=3, figsize=(10, 5))\n",
    "\n",
    "for i in range(3):\n",
    "    ax = axs.ravel()[i]\n",
    "    ax.plot(data[i])\n",
    "    ax.margins(0)\n",
    "    axs[i].set_title(f\"Detector {i+1}\", loc='center')\n",
    "    ax.set_ylabel(f\"Amplitude\")\n",
    "    ax.set_ylim([-ylim, ylim])\n",
    "    \n",
    "axs[0].xaxis.set_visible(False)\n",
    "axs[1].xaxis.set_visible(False)\n",
    "\n",
    "axs[2].set_xlabel(\"Time stamp\")\n",
    "fig.suptitle(f\"Raw data visualization. ID: {file_id}. Target: {target}.\")\n",
    "plt.show()"
   ]
  },
  {
   "cell_type": "markdown",
   "id": "54ed58a3",
   "metadata": {},
   "source": [
    "plotting the data in frequency domain"
   ]
  },
  {
   "cell_type": "code",
   "execution_count": null,
   "id": "0605d204",
   "metadata": {},
   "outputs": [],
   "source": [
    "fs = 2048      # sampling rate\n",
    "NFFT = 4*fs    # the Nyquist frequency \n",
    "f_min = 20.\n",
    "f_max = fs/2"
   ]
  },
  {
   "cell_type": "code",
   "execution_count": null,
   "id": "c1a33269",
   "metadata": {},
   "outputs": [],
   "source": [
    "_, target, data = load_random_file(True)\n",
    "\n",
    "strain1, strain2, strain3 = data[0], data[1], data[2]\n",
    "\n",
    "Pxx_1, freqs = mlab.psd(strain1, Fs = fs, NFFT = NFFT)\n",
    "Pxx_2, freqs = mlab.psd(strain2, Fs = fs, NFFT = NFFT)\n",
    "Pxx_3, freqs = mlab.psd(strain3, Fs = fs, NFFT = NFFT)\n",
    "\n",
    "psd_1 = interp1d(freqs, Pxx_1)\n",
    "psd_2 = interp1d(freqs, Pxx_2)\n",
    "psd_3 = interp1d(freqs, Pxx_3)\n",
    "\n",
    "fig, ax = plt.subplots(ncols=1, nrows=1, figsize=(10, 5))\n",
    "ax.loglog(freqs, np.sqrt(Pxx_1),\"g\",label=\"Detector 1\")\n",
    "ax.loglog(freqs, np.sqrt(Pxx_2),\"r\",label=\"Detector 2\")\n",
    "ax.loglog(freqs, np.sqrt(Pxx_3),\"b\",label=\"Detector 3\")\n",
    "\n",
    "ax.set_xlim([f_min, f_max])\n",
    "ax.set_ylabel(\"ASD (strain/$\\sqrt{Hz}$)\")\n",
    "ax.set_xlabel(\"Frequency (Hz)\")\n",
    "ax.legend()\n",
    "\n",
    "plt.show()"
   ]
  },
  {
   "cell_type": "markdown",
   "id": "a65cc434",
   "metadata": {},
   "source": [
    "constant q-transform"
   ]
  },
  {
   "cell_type": "code",
   "execution_count": null,
   "id": "4322637d",
   "metadata": {},
   "outputs": [],
   "source": [
    "!pip -q install pycbc\n",
    "import pycbc"
   ]
  },
  {
   "cell_type": "code",
   "execution_count": null,
   "id": "b6a18a42",
   "metadata": {},
   "outputs": [],
   "source": [
    "def generate_qtransform(data, fs):\n",
    "    \"\"\"Function for generating constant Q-transform. \n",
    "    \n",
    "    Args:\n",
    "        data: numpy.ndarray\n",
    "            numpy array in the shape (3, 4096), where 3 is the number\n",
    "            of detectors, 4096 is number of data points (each time series\n",
    "            instance spans over 2 seconds and is sampled at 2048 Hz)\n",
    "        fs: int\n",
    "            sampling frequency\n",
    "    Returns:\n",
    "        times: numpy.ndarray\n",
    "            array of time bins\n",
    "        freqs: numpy.ndarray\n",
    "            array of frequency bins\n",
    "        qplanes: list\n",
    "            list with 3 elements corresponding to each detector in the raw\n",
    "            data file. Each element is a 2-d vector of the power in each \n",
    "            time-frequency bin\n",
    "    \"\"\"    \n",
    "    \n",
    "    qplanes = []\n",
    "    for i in range(len(data)):\n",
    "        \n",
    "        # converting data into PyCBC Time Series format\n",
    "        ts = pycbc.types.TimeSeries(data[i, :], epoch=0, delta_t=1.0/fs)   \n",
    "        \n",
    "        # whitening the data within some frequency range\n",
    "        ts = ts.whiten(0.125, 0.125) \n",
    "        \n",
    "        # calculating CQT values\n",
    "        times, freqs, qplane = ts.qtransform(.002, logfsteps=100, qrange=(10, 10), frange=(20, 512))\n",
    "\n",
    "        qplanes.append(qplane)\n",
    "        \n",
    "    return times, freqs, qplanes "
   ]
  },
  {
   "cell_type": "code",
   "execution_count": null,
   "id": "7a453d7c",
   "metadata": {},
   "outputs": [],
   "source": [
    "def plot_qtransform(file_id, target, data):\n",
    "    \"\"\"Plotting constant Q-transform data.\n",
    "    \n",
    "    Args:\n",
    "        file_id: str\n",
    "            unique id of the selected file\n",
    "        target: int\n",
    "            0 or 1, target value\n",
    "        data: numpy.ndarray\n",
    "            numpy array in the shape (3, 4096), where 3 is the number\n",
    "            of detectors, 4096 is number of data points (each time series\n",
    "            instance spans over 2 seconds and is sampled at 2048 Hz)\n",
    "    \"\"\"\n",
    "    \n",
    "    times, freqs, qplanes = generate_qtransform(data, fs=fs)\n",
    "    \n",
    "    fig, axs = plt.subplots(ncols=1, nrows=3, figsize=(12, 8))\n",
    "\n",
    "    for i in range(3):\n",
    "\n",
    "        axs[i].pcolormesh(times, freqs, qplanes[i], shading = 'auto')\n",
    "        axs[i].set_yscale('log')\n",
    "        axs[i].set_ylabel('Frequency (Hz)')\n",
    "        axs[i].set_xlabel('Time (s)')\n",
    "        axs[i].set_title(f\"Detector {i+1}\", loc='left')\n",
    "        axs[i].grid(False)\n",
    "\n",
    "    axs[0].xaxis.set_visible(False)\n",
    "    axs[1].xaxis.set_visible(False)\n",
    "\n",
    "    fig.suptitle(f\"Q transform visualization. ID: {file_id}. Target: {target}.\", fontsize=16)\n",
    "    plt.show()"
   ]
  },
  {
   "cell_type": "code",
   "execution_count": null,
   "id": "6702e7bc",
   "metadata": {},
   "outputs": [],
   "source": [
    "file_id, target, data = load_random_file()\n",
    "plot_qtransform(file_id, target, data)"
   ]
  },
  {
   "cell_type": "code",
   "execution_count": null,
   "id": "a064ccff",
   "metadata": {},
   "outputs": [],
   "source": [
    "file_id = '7945e449f3'\n",
    "target = 1\n",
    "data  = np.load(train_data[train_data['id']==file_id]['path'].values[0])\n",
    "\n",
    "plot_qtransform(file_id, target, data)"
   ]
  },
  {
   "cell_type": "markdown",
   "id": "66aa5992",
   "metadata": {},
   "source": [
    "https://github.com/JonasHeinzmann-AI/G2Net-Gravitational-Wave-Detection/blob/main/g2net-eda-and-modeling.ipynb"
   ]
  },
  {
   "cell_type": "code",
   "execution_count": null,
   "id": "4086f633",
   "metadata": {},
   "outputs": [],
   "source": [
    "def convert_image_id_2_path(image_id: str, is_train: bool = True) -> str:\n",
    "    folder = \"train\" if is_train else \"test\"\n",
    "    return \"../input/g2net-gravitational-wave-detection/{}/{}/{}/{}/{}.npy\".format(\n",
    "        folder, image_id[0], image_id[1], image_id[2], image_id \n",
    "    )"
   ]
  },
  {
   "cell_type": "code",
   "execution_count": null,
   "id": "2df8c526",
   "metadata": {},
   "outputs": [],
   "source": [
    "train_df = pd.read_csv(\"../input/g2net-gravitational-wave-detection/training_labels.csv\")\n",
    "train_df"
   ]
  },
  {
   "cell_type": "code",
   "execution_count": null,
   "id": "2509e3b8",
   "metadata": {},
   "outputs": [],
   "source": [
    "sns.countplot(data=train_df, x=\"target\")"
   ]
  },
  {
   "cell_type": "code",
   "execution_count": null,
   "id": "fa4691d7",
   "metadata": {},
   "outputs": [],
   "source": [
    "def visualize_sample(\n",
    "    _id, \n",
    "    target, \n",
    "    colors=(\"black\", \"red\", \"green\"), \n",
    "    signal_names=(\"LIGO Hanford\", \"LIGO Livingston\", \"Virgo\")\n",
    "):\n",
    "    path = convert_image_id_2_path(_id)\n",
    "    x = np.load(path)\n",
    "    plt.figure(figsize=(16, 7))\n",
    "    for i in range(3):\n",
    "        plt.subplot(4, 1, i + 1)\n",
    "        plt.plot(x[i], color=colors[i])\n",
    "        plt.legend([signal_names[i]], fontsize=12, loc=\"lower right\")\n",
    "        \n",
    "        plt.subplot(4, 1, 4)\n",
    "        plt.plot(x[i], color=colors[i])\n",
    "    \n",
    "    plt.subplot(4, 1, 4)\n",
    "    plt.legend(signal_names, fontsize=12, loc=\"lower right\")\n",
    "\n",
    "    plt.suptitle(f\"id: {_id} target: {target}\", fontsize=16)\n",
    "    plt.show()"
   ]
  },
  {
   "cell_type": "code",
   "execution_count": null,
   "id": "c3b15492",
   "metadata": {},
   "outputs": [],
   "source": [
    "for i in random.sample(train_df.index.tolist(), 3):\n",
    "    _id = train_df.iloc[i][\"id\"]\n",
    "    target = train_df.iloc[i][\"target\"]\n",
    "\n",
    "    visualize_sample(_id, target)"
   ]
  },
  {
   "cell_type": "markdown",
   "id": "be2ee569",
   "metadata": {},
   "source": [
    "https://github.com/SiddharthPatel45/gravitational-wave-detection/blob/main/code/gw-detection-analysis.ipynb"
   ]
  },
  {
   "cell_type": "code",
   "execution_count": null,
   "id": "b8a1d4e6",
   "metadata": {},
   "outputs": [],
   "source": [
    "# Import libraries\n",
    "import numpy as np\n",
    "import pandas as pd\n",
    "\n",
    "# Plotting libraries\n",
    "import matplotlib.pyplot as plt\n",
    "import seaborn as sns\n",
    "\n",
    "# Import the kaggle API to download data files as required\n",
    "try:\n",
    "    import kaggle\n",
    "except:\n",
    "    !pip install -q --user kaggle\n",
    "    import kaggle"
   ]
  },
  {
   "cell_type": "code",
   "execution_count": null,
   "id": "344c53ac",
   "metadata": {},
   "outputs": [],
   "source": [
    "# Gravitational wave analysis python library\n",
    "try:\n",
    "    import gwpy\n",
    "except:\n",
    "    !pip install -q --user gwpy\n",
    "    import gwpy\n",
    "from gwpy.timeseries import TimeSeries"
   ]
  },
  {
   "cell_type": "code",
   "execution_count": null,
   "id": "f70c1097",
   "metadata": {},
   "outputs": [],
   "source": [
    "# Training IDs\n",
    "train = pd.read_csv('../data_source/training_labels.csv')"
   ]
  },
  {
   "cell_type": "code",
   "execution_count": null,
   "id": "60b8a54c",
   "metadata": {},
   "outputs": [],
   "source": [
    "# data source url -- get the npy files from kaggle API\n",
    "def get_data(id_, is_train=True):\n",
    "    if is_train:\n",
    "        file = f'train/{id_[0]}/{id_[1]}/{id_[2]}/{id_}.npy'\n",
    "    else:\n",
    "        file = f'test/{id_[0]}/{id_[1]}/{id_[2]}/{id_}.npy'\n",
    "        \n",
    "    return np.load(download_unzip(id_, file))"
   ]
  },
  {
   "cell_type": "code",
   "execution_count": null,
   "id": "bd010944",
   "metadata": {},
   "outputs": [],
   "source": [
    "# set of observatories\n",
    "obs_list = ('LIGO Hanford', 'LIGO Livingston', 'Virgo')"
   ]
  },
  {
   "cell_type": "code",
   "execution_count": null,
   "id": "5fc6ddde",
   "metadata": {},
   "outputs": [],
   "source": [
    "# check the shape of the training data\n",
    "train.shape"
   ]
  },
  {
   "cell_type": "code",
   "execution_count": null,
   "id": "a6166184",
   "metadata": {},
   "outputs": [],
   "source": [
    "# Target distribution in train data\n",
    "train['target'].value_counts(normalize=True)"
   ]
  },
  {
   "cell_type": "code",
   "execution_count": null,
   "id": "9e1f2579",
   "metadata": {},
   "outputs": [],
   "source": [
    "\n",
    "# draw a random sample from the train data\n",
    "sample_gw_id = train[train['target'] == 1].sample(random_state=42)['id'].values[0]"
   ]
  },
  {
   "cell_type": "code",
   "execution_count": null,
   "id": "dac1d31f",
   "metadata": {},
   "outputs": [],
   "source": [
    "# Plot the sample data\n",
    "def plot_sample_data(sample_id):\n",
    "    # Get the data\n",
    "    sample = get_data(sample_id)\n",
    "    \n",
    "    fig, ax = plt.subplots(3, 1, figsize=(12, 10), sharey=True)\n",
    "    target = train[train['id'] == sample_id]['target'].values\n",
    "    plt.suptitle(f\"Strain data for three observatories from sample: {sample_id} | Target: {target[0]}\")\n",
    "\n",
    "    for i in range(3):\n",
    "        sns.lineplot(data=sample[i], ax=ax[i], color=sns.color_palette()[i])\n",
    "        ax[i].legend([obs_list[i]])\n",
    "        ax[i].set_xlim(0, 4096)\n",
    "        ax[i].set_xticks(ticks=[0, 2048, 4096]);\n",
    "        ax[i].set_xticklabels(labels=[0, 1, 2]);"
   ]
  },
  {
   "cell_type": "code",
   "execution_count": null,
   "id": "c3a96802",
   "metadata": {},
   "outputs": [],
   "source": [
    "\n",
    "# plot the sample with gravitational wave signal\n",
    "plot_sample_data(sample_gw_id)"
   ]
  },
  {
   "cell_type": "markdown",
   "id": "c0475f52",
   "metadata": {},
   "source": [
    "Spectral density plots"
   ]
  },
  {
   "cell_type": "code",
   "execution_count": null,
   "id": "94613805",
   "metadata": {},
   "outputs": [],
   "source": [
    "# let's define some signal parameters\n",
    "sample_rate = 2048 # data is provided at 2048 Hz\n",
    "signal_length = 2 # each signal lasts 2 s"
   ]
  },
  {
   "cell_type": "code",
   "execution_count": null,
   "id": "6ae6dc63",
   "metadata": {},
   "outputs": [],
   "source": [
    "# function to plot the amplitude spectral density (ASD) plot\n",
    "def plot_asd(sample_id):\n",
    "    # Get the data\n",
    "    sample = get_data(sample_id)\n",
    "    \n",
    "    # we convert the data to gwpy's TimeSeries for analysis\n",
    "    for i in range(sample.shape[0]):\n",
    "        ts = TimeSeries(sample[i], sample_rate=sample_rate)\n",
    "        ax = ts.asd(signal_length).plot(figsize=(12, 5)).gca()\n",
    "        ax.set_xlim(10, 1024);\n",
    "        ax.set_title(f\"ASD plots for sample: {sample_id} from {obs_list[i]}\");"
   ]
  },
  {
   "cell_type": "code",
   "execution_count": null,
   "id": "43ec37c2",
   "metadata": {},
   "outputs": [],
   "source": [
    "# plot ASD for sample w/ GW\n",
    "plot_asd(sample_gw_id)"
   ]
  },
  {
   "cell_type": "code",
   "execution_count": null,
   "id": "ac7c013e",
   "metadata": {},
   "outputs": [],
   "source": [
    "# plot ASD for sample w/o GW\n",
    "plot_asd(sample_no_gw_id)"
   ]
  },
  {
   "cell_type": "markdown",
   "id": "06101d8b",
   "metadata": {},
   "source": [
    "Typical signal processing workflow\n",
    "Next, we try to implement the steps from this paper referenced above by following these steps:\n",
    "\n",
    "Plot the raw signal\n",
    "Window the signal\n",
    "Whiten the signal\n",
    "Bandpass the signal"
   ]
  },
  {
   "cell_type": "code",
   "execution_count": null,
   "id": "317ebc45",
   "metadata": {},
   "outputs": [],
   "source": [
    "# Plot the raw signal\n",
    "sample_gw_ts = TimeSeries(get_data(sample_gw_id)[0], sample_rate=sample_rate)\n",
    "plot = sample_gw_ts.plot()\n",
    "ax = plot.gca()\n",
    "ax.set_xlim(0, 2);"
   ]
  },
  {
   "cell_type": "code",
   "execution_count": null,
   "id": "92c6289f",
   "metadata": {},
   "outputs": [],
   "source": [
    "# get a window of lenght of the signal\n",
    "from scipy.signal import hann\n",
    "hann_win = hann(sample_rate*signal_length, False)"
   ]
  },
  {
   "cell_type": "code",
   "execution_count": null,
   "id": "5ee27c8f",
   "metadata": {},
   "outputs": [],
   "source": [
    "plt.plot(hann_win);"
   ]
  },
  {
   "cell_type": "code",
   "execution_count": null,
   "id": "7142217c",
   "metadata": {},
   "outputs": [],
   "source": [
    "# plot the windowed signal\n",
    "sample_gw_ts_win = sample_gw_ts * hann_win\n",
    "plot = sample_gw_ts_win.plot()\n",
    "ax = plot.gca()\n",
    "ax.set_xlim(0, 2);"
   ]
  },
  {
   "cell_type": "code",
   "execution_count": null,
   "id": "e52474d2",
   "metadata": {},
   "outputs": [],
   "source": [
    "# plot the whitened signal\n",
    "plot = sample_gw_ts.whiten().plot()\n",
    "ax = plot.gca()\n",
    "ax.set_xlim(0, 2);"
   ]
  },
  {
   "cell_type": "code",
   "execution_count": null,
   "id": "213cfb03",
   "metadata": {},
   "outputs": [],
   "source": [
    "# Bandpass the above whitened data and plot\n",
    "plot = sample_gw_ts.whiten().bandpass(35, 350).plot()\n",
    "ax = plot.gca()\n",
    "ax.set_xlim(0, 2);"
   ]
  },
  {
   "cell_type": "markdown",
   "id": "d144cdcd",
   "metadata": {},
   "source": [
    "qt"
   ]
  },
  {
   "cell_type": "code",
   "execution_count": null,
   "id": "d3d9dceb",
   "metadata": {},
   "outputs": [],
   "source": [
    "# function to plot the Q-transform spectrogram\n",
    "def plot_q_transform(sample_id):\n",
    "    # Get the data\n",
    "    sample = get_data(sample_id)\n",
    "    \n",
    "    # we convert the data to gwpy's TimeSeries for analysis\n",
    "    for i in range(sample.shape[0]):\n",
    "        ts = TimeSeries(sample[i], sample_rate=sample_rate)\n",
    "        ax = ts.q_transform(whiten=True).plot().gca()\n",
    "        ax.set_xlabel('')\n",
    "        ax.set_title(f\"Spectrogram plots for sample: {sample_id} from {obs_list[i]}\")\n",
    "        ax.grid(False)\n",
    "        ax.set_yscale('log');"
   ]
  },
  {
   "cell_type": "code",
   "execution_count": null,
   "id": "d9a1e409",
   "metadata": {},
   "outputs": [],
   "source": [
    "# plot the Q-transform for sample w/ GW\n",
    "plot_q_transform(sample_gw_id)"
   ]
  },
  {
   "cell_type": "code",
   "execution_count": null,
   "id": "f5bd915a",
   "metadata": {},
   "outputs": [],
   "source": [
    "# function to plot the Q-transform spectrogram side-by-side\n",
    "def plot_q_transform_sbs(sample_gw_id, sample_no_gw_id):\n",
    "    # Get the data\n",
    "    sample_gw = get_data(sample_gw_id)\n",
    "    sample_no_gw = get_data(sample_no_gw_id)\n",
    "    \n",
    "    for i in range(len(obs_list)):\n",
    "        # get the timeseries\n",
    "        ts_gw = TimeSeries(sample_gw[i], sample_rate=sample_rate)\n",
    "        ts_no_gw = TimeSeries(sample_no_gw[i], sample_rate=sample_rate)\n",
    "        \n",
    "        # get the Q-transform\n",
    "        image_gw = ts_gw.q_transform(whiten=True)\n",
    "        image_no_gw = ts_no_gw.q_transform(whiten=True)\n",
    "\n",
    "        plt.figure(figsize=(20, 10))\n",
    "        plt.subplot(131)\n",
    "        plt.imshow(image_gw)\n",
    "        plt.title(f\"id: {sample_gw_id} | Target=1\")\n",
    "        plt.grid(False)\n",
    "\n",
    "        plt.subplot(132)\n",
    "        plt.imshow(image_no_gw)\n",
    "        plt.title(f\"id: {sample_no_gw_id} | Target=0\")\n",
    "        plt.grid(False)\n",
    "        \n",
    "        plt.show()"
   ]
  },
  {
   "cell_type": "code",
   "execution_count": null,
   "id": "e8cd9e66",
   "metadata": {},
   "outputs": [],
   "source": [
    "\n",
    "# let's plot two spectrograms for sample w/ and w/o GW signal side-by-side\n",
    "plot_q_transform_sbs(sample_gw_id, sample_no_gw_id)"
   ]
  },
  {
   "cell_type": "code",
   "execution_count": null,
   "id": "48c22c7f",
   "metadata": {},
   "outputs": [],
   "source": [
    "# let's look at the sample with obvious \"chirp\"\n",
    "# id from: https://www.kaggle.com/mistag/data-preprocessing-with-gwpy\n",
    "plot_q_transform('0021f9dd71')"
   ]
  },
  {
   "cell_type": "code",
   "execution_count": null,
   "id": "ec2d7e59",
   "metadata": {},
   "outputs": [],
   "source": []
  }
 ],
 "metadata": {
  "kernelspec": {
   "display_name": "Python 3 (ipykernel)",
   "language": "python",
   "name": "python3"
  },
  "language_info": {
   "codemirror_mode": {
    "name": "ipython",
    "version": 3
   },
   "file_extension": ".py",
   "mimetype": "text/x-python",
   "name": "python",
   "nbconvert_exporter": "python",
   "pygments_lexer": "ipython3",
   "version": "3.9.12"
  }
 },
 "nbformat": 4,
 "nbformat_minor": 5
}
