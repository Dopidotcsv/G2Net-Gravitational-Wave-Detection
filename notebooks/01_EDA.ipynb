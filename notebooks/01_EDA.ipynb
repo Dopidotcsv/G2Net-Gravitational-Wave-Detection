{
 "cells": [
  {
   "cell_type": "markdown",
   "id": "2b2a00bc",
   "metadata": {},
   "source": [
    "# Exploratory Data Analysis"
   ]
  },
  {
   "cell_type": "markdown",
   "id": "947758bf",
   "metadata": {},
   "source": [
    "Due the characterstics of the data in this EDA we'll plot the data using different techinques such as plotting in time domain or in frequency domain."
   ]
  },
  {
   "cell_type": "markdown",
   "id": "04fa3b1b",
   "metadata": {},
   "source": [
    "### Libraries"
   ]
  },
  {
   "cell_type": "code",
   "execution_count": null,
   "id": "bebe6f97",
   "metadata": {},
   "outputs": [],
   "source": [
    "import numpy as np # linear algebra\n",
    "import pandas as pd # data processing, CSV file I/O (e.g. pd.read_csv)\n",
    "pd.set_option(\"display.max_colwidth\", None) # setting the maximum width in characters when displaying pandas column. \"None\" value means unlimited.\n",
    "\n",
    "import matplotlib.pyplot as plt  # plotting\n",
    "from glob import glob     # pathname management\n",
    "import seaborn as sns # for data visualization\n",
    "\n",
    "#from src.plot.plot import *"
   ]
  },
  {
   "cell_type": "code",
   "execution_count": null,
   "id": "3caf4aa1",
   "metadata": {},
   "outputs": [],
   "source": [
    "import numpy as np\n",
    "import pandas as pd\n",
    "import matplotlib.pyplot as plt\n",
    "import seaborn as sns\n",
    "from scipy.interpolate import interp1d  # interpolating a 1-D function\n",
    "import matplotlib.mlab as mlab  # some MATLAB commands\n",
    "from src.load.get_data import *\n",
    "\n",
    "import librosa\n",
    "import librosa.display\n",
    "\n",
    "\n",
    "def visualize_sample(\n",
    "    df,\n",
    "    sample_id, \n",
    "    signal_names=(\"LIGO Hanford\", \"LIGO Livingston\", \"Virgo\")\n",
    "):\n",
    "    target = df[df['id'] == sample_id]['target'].values\n",
    "    sample = get_data(sample_id)\n",
    "    plt.suptitle(f\"Strain data for three observatories from sample: {sample_id} | Target:         {target[0]}\")\n",
    "    for i in range(3):\n",
    "        sns.lineplot(data=sample[i], color=sns.color_palette()[i])\n",
    "        plt.subplot(4, 1, i + 1)\n",
    "        plt.plot(sample[i])\n",
    "        plt.legend([signal_names[i]], fontsize=12, loc=\"lower right\")\n",
    "        plt.subplot(4, 1, 4)\n",
    "        plt.plot(sample[i])\n",
    "    \n",
    "    plt.subplot(4, 1, 4)\n",
    "    plt.legend(signal_names, fontsize=12, loc=\"lower right\")\n",
    "    plt.suptitle(f\"Strain data for three observatories from sample: {sample_id} | Target:         {target[0]}\")\n",
    "    plt.show()\n",
    "\n",
    "    \n",
    "# function to plot the amplitude spectral density (ASD) plot\n",
    "def plot_asd(sample_id,sample_rate,signal_length):\n",
    "    # Get the data\n",
    "    sample = get_data(sample_id)\n",
    "    \n",
    "    # we convert the data to gwpy's TimeSeries for analysis\n",
    "    for i in range(sample.shape[0]):\n",
    "        ts = TimeSeries(sample[i], sample_rate=sample_rate)\n",
    "        ax = ts.asd(signal_length).plot(figsize=(12, 5)).gca()\n",
    "        ax.set_xlim(10, 1024);\n",
    "        ax.set_title(f\"ASD plots for sample: {sample_id} from {obs_list[i]}\");\n",
    "        \n",
    "def plot_asd_mix(sample, sample_rate, NFFT, f_min, f_max):\n",
    "\n",
    "    Pxx_1, freqs = mlab.psd(sample[0], Fs = sample_rate, NFFT = NFFT)\n",
    "    Pxx_2, freqs = mlab.psd(sample[1], Fs = sample_rate, NFFT = NFFT)\n",
    "    Pxx_3, freqs = mlab.psd(sample[2], Fs = sample_rate, NFFT = NFFT)\n",
    "\n",
    "    psd_1 = interp1d(freqs, Pxx_1)\n",
    "    psd_2 = interp1d(freqs, Pxx_2)\n",
    "    psd_3 = interp1d(freqs, Pxx_3)\n",
    "\n",
    "    fig, ax = plt.subplots(ncols=1, nrows=1, figsize=(10, 5))\n",
    "    ax.loglog(freqs, np.sqrt(Pxx_1),\"g\",label=\"Detector 1\")\n",
    "    ax.loglog(freqs, np.sqrt(Pxx_2),\"r\",label=\"Detector 2\")\n",
    "    ax.loglog(freqs, np.sqrt(Pxx_3),\"b\",label=\"Detector 3\")\n",
    "\n",
    "    ax.set_xlim([f_min, f_max])\n",
    "    ax.set_xlabel(\"Frequency (Hz)\")\n",
    "    ax.set_ylabel(\"Hz^-1/2\")\n",
    "    ax.set_title(f\"ASD plots for sample: {sample_id}\");\n",
    "    ax.legend()\n",
    "\n",
    "    plt.show()\n",
    "\n",
    "# function to plot the Q-transform spectrogram\n",
    "def plot_q_transform(sample_id):\n",
    "    # Get the data\n",
    "    sample = get_data(sample_id)\n",
    "    \n",
    "    # we convert the data to gwpy's TimeSeries for analysis\n",
    "    for i in range(sample.shape[0]):\n",
    "        ts = TimeSeries(sample[i], sample_rate=sample_rate)\n",
    "        ax = ts.q_transform(whiten=True).plot().gca()\n",
    "        ax.set_xlabel('')\n",
    "        ax.set_title(f\"Spectrogram plots for sample: {sample_id} from {obs_list[i]}\")\n",
    "        ax.grid(False)\n",
    "        \n",
    "        ax.set_yscale('log')\n",
    "\n",
    "# function to plot the Q-transform spectrogram side-by-side\n",
    "def plot_q_transform_sbs(sample_gw_id, sample_no_gw_id):\n",
    "    # Get the data\n",
    "    sample_gw = get_data(sample_gw_id)\n",
    "    sample_no_gw = get_data(sample_no_gw_id)\n",
    "    \n",
    "    for i in range(len(obs_list)):\n",
    "        # get the timeseries\n",
    "        ts_gw = TimeSeries(sample_gw[i], sample_rate=sample_rate)\n",
    "        ts_no_gw = TimeSeries(sample_no_gw[i], sample_rate=sample_rate)\n",
    "        \n",
    "        # get the Q-transform\n",
    "        image_gw = ts_gw.q_transform(whiten=True)\n",
    "        image_no_gw = ts_no_gw.q_transform(whiten=True)\n",
    "\n",
    "        plt.figure(figsize=(20, 10))\n",
    "        plt.subplot(131)\n",
    "        plt.imshow(image_gw)\n",
    "        plt.title(f\"id: {sample_gw_id} | Target=1\")\n",
    "        plt.grid(False)\n",
    "\n",
    "        plt.subplot(132)\n",
    "        plt.imshow(image_no_gw)\n",
    "        plt.title(f\"id: {sample_no_gw_id} | Target=0\")\n",
    "        plt.grid(False)\n",
    "        \n",
    "        plt.show()\n",
    "        \n",
    "def visualize_sample_spectogram(df,\n",
    "    sample_id, \n",
    "    target,\n",
    "    signal_names=(\"LIGO Hanford\", \"LIGO Livingston\", \"Virgo\")\n",
    "):\n",
    "    target = df[df['id'] == sample_id]['target'].values\n",
    "    sample = get_data(sample_id)\n",
    "    plt.figure(figsize=(16, 5))\n",
    "    for i in range(3):\n",
    "        X = librosa.stft(sample[i] / sample[i].max())\n",
    "        Xdb = librosa.amplitude_to_db(abs(sample))\n",
    "        plt.subplot(1, 3, i + 1)\n",
    "        librosa.display.specshow(Xdb, sr=2048, x_axis=\"time\", y_axis=\"hz\", vmin=-30, vmax=50) \n",
    "        plt.colorbar()\n",
    "        plt.title(signal_names[i], fontsize=14)\n",
    "\n",
    "    plt.suptitle(f\"Spectrogram plots for sample: {sample_id}\", fontsize=16)\n",
    "    plt.show()\n",
    "    \n",
    "def visualize_sample_mfcc(df,\n",
    "    sample_id, \n",
    "    sr=2048,\n",
    "    signal_names=(\"LIGO Hanford\", \"LIGO Livingston\", \"Virgo\")\n",
    "):\n",
    "    target = df[df['id'] == sample_id]['target'].values\n",
    "    sample = get_data(sample_id)\n",
    "    plt.figure(figsize=(16, 5))\n",
    "    for i in range(3):\n",
    "        mfccs = librosa.feature.mfcc(sample[i] / sample[i].max(), sr=sr)\n",
    "        plt.subplot(1, 3, i + 1)\n",
    "        librosa.display.specshow(mfccs, sr=sr, x_axis=\"time\", vmin=-200, vmax=50, cmap=\"coolwarm\")\n",
    "        plt.title(signal_names[i], fontsize=14)\n",
    "        plt.colorbar()\n",
    "\n",
    "    plt.suptitle(f\"Mel Frequency Cepstral Coefficients plots for sample: {sample_id}\", fontsize=16)\n",
    "    plt.show()"
   ]
  },
  {
   "cell_type": "markdown",
   "id": "dd59447a",
   "metadata": {},
   "source": [
    "### Setup variables"
   ]
  },
  {
   "cell_type": "code",
   "execution_count": null,
   "id": "a89510da",
   "metadata": {},
   "outputs": [],
   "source": [
    "training_labels=pd.read_csv(\"data/training_labels.csv\")\n",
    "training_labels.head()"
   ]
  },
  {
   "cell_type": "markdown",
   "id": "43f45136",
   "metadata": {},
   "source": [
    "To make things easier let's merge the path of the file into the df with the target"
   ]
  },
  {
   "cell_type": "markdown",
   "id": "476a09fd",
   "metadata": {},
   "source": [
    "With glob we can get all the files in the train directory"
   ]
  },
  {
   "cell_type": "code",
   "execution_count": null,
   "id": "042554a4",
   "metadata": {},
   "outputs": [],
   "source": [
    "training_paths = glob(\"../input/g2net-gravitational-wave-detection/train/*/*/*/*\")\n",
    "print(\"The total number of files in the training set:\", len(training_paths))"
   ]
  },
  {
   "cell_type": "code",
   "execution_count": null,
   "id": "dfa45a1c",
   "metadata": {},
   "outputs": [],
   "source": [
    "ids = [path.split(\"/\")[-1].split(\".\")[0] for path in training_paths]\n",
    "paths_df = pd.DataFrame({\"path\":training_paths, \"id\": ids})\n",
    "train_data = pd.merge(left=training_labels, right=paths_df, on=\"id\")\n",
    "train_data.head()"
   ]
  },
  {
   "cell_type": "code",
   "execution_count": null,
   "id": "8b929ac4",
   "metadata": {},
   "outputs": [],
   "source": [
    "train_data.to_csv(\"data/data_path.csv\")"
   ]
  },
  {
   "cell_type": "markdown",
   "id": "8c643eea",
   "metadata": {},
   "source": [
    "## Plots"
   ]
  },
  {
   "cell_type": "markdown",
   "id": "9803a3b3",
   "metadata": {},
   "source": [
    "Let's check if the source data target is balanced"
   ]
  },
  {
   "cell_type": "code",
   "execution_count": null,
   "id": "78e7bd4f",
   "metadata": {},
   "outputs": [],
   "source": [
    "train_data['target'].value_counts()"
   ]
  },
  {
   "cell_type": "code",
   "execution_count": null,
   "id": "0a92a2df",
   "metadata": {},
   "outputs": [],
   "source": [
    "sns.countplot(data=train_df, x=\"target\")"
   ]
  },
  {
   "cell_type": "markdown",
   "id": "ea252c96",
   "metadata": {},
   "source": [
    "As we can see the source data is balanced."
   ]
  },
  {
   "cell_type": "markdown",
   "id": "57b2c057",
   "metadata": {},
   "source": [
    "Let's plot the signals"
   ]
  },
  {
   "cell_type": "code",
   "execution_count": null,
   "id": "3bd6625e",
   "metadata": {},
   "outputs": [],
   "source": [
    "# draw a random sample from the train data\n",
    "sample_gw_id = train_data[train_data['target'] == 1].sample(random_state=42)['id'].values[0]"
   ]
  },
  {
   "cell_type": "code",
   "execution_count": null,
   "id": "93f73e2a",
   "metadata": {},
   "outputs": [],
   "source": [
    "def plot_1(path,\n",
    "           a = 1,\n",
    "           b = 0,\n",
    "           labels = ('LIGO Hanford', 'LIGO Livingston', 'Virgo')\n",
    "):\n",
    "    \n",
    "    training_files = glob(path)\n",
    "    data = np.load(training_files[0])\n",
    "    time = [i/2048 for i in range(len(data[0]))]\n",
    "    fig, ax = plt.subplots(3,1,figsize=(12,10), sharey= True) \n",
    "    data_a = np.load(training_files[a]) \n",
    "    for i in range(3):\n",
    "        #ax[i,a].plot(time, data_a[i]*10**(20), label = labels[i])\n",
    "    #ax[0, a].set_title('Target: 1')\n",
    "    plt.suptitle(f\"Strain data for three observatories from sample: {labels[i]} | Target: {a}\")\n",
    "    sns.lineplot(data=sample[i], ax=ax[i], color=sns.color_palette()[i])\n",
    "    ax[i].legend([labels[i]])\n",
    "    ax[i].set_xlim(0, 4096)\n",
    "    ax[i].set_xticks(ticks=[0, 2048, 4096]);\n",
    "    ax[i].set_xticklabels(labels=[0, 1, 2]);\n",
    "\n",
    "    data_b = np.load(training_files[b]) \n",
    "    for i in range(3):\n",
    "        #ax[i,b].plot(time, data_b[i]*10**(20), label = labels[i])\n",
    "    #ax[0, b].set_title('Target: 0')\n",
    "    plt.suptitle(f\"Strain data for three observatories from sample: {labels[i]} | Target: {b}\")\n",
    "      sns.lineplot(data=data_b[i]*10**(20), ax=ax[i], color=sns.color_palette()[i])\n",
    "    ax[i].legend([labels[i]])\n",
    "    ax[i].set_xlim(0, 4096)\n",
    "    ax[i].set_xticks(ticks=[0, 2048, 4096]);\n",
    "    ax[i].set_xticklabels(labels=[0, 1, 2]);"
   ]
  },
  {
   "cell_type": "code",
   "execution_count": null,
   "id": "05c45420",
   "metadata": {},
   "outputs": [],
   "source": [
    "plot_1(training_paths)"
   ]
  },
  {
   "cell_type": "code",
   "execution_count": null,
   "id": "372ff844",
   "metadata": {},
   "outputs": [],
   "source": [
    "# plot the sample with gravitational wave signal\n",
    "visualize_sample(train_data,sample_gw_id)"
   ]
  },
  {
   "cell_type": "markdown",
   "id": "2a82f1dd",
   "metadata": {},
   "source": [
    "Descibir que se ve royo :\n",
    "\n",
    "The three plots above show the strain values sampled for 2s at 2048 Hz for id 882722dba9. Out of the three readings, the two LIGO values are similar in amplitude while the Virgo is smaller. Even though this particular sample has gravitaional wave signal, it is burried deep in the instrument noise.\n"
   ]
  },
  {
   "cell_type": "code",
   "execution_count": null,
   "id": "bba8442c",
   "metadata": {},
   "outputs": [],
   "source": [
    "# draw another random sample from train without gravitational wave signal\n",
    "sample_no_gw_id = train_data[train_data['target'] == 0].sample(random_state=42)['id'].values[0]"
   ]
  },
  {
   "cell_type": "code",
   "execution_count": null,
   "id": "8d542d3a",
   "metadata": {},
   "outputs": [],
   "source": [
    "# plot the sample without gravitational wave signal\n",
    "visualize_sample(train_data, sample_no_gw_id)"
   ]
  },
  {
   "cell_type": "markdown",
   "id": "5658242f",
   "metadata": {},
   "source": [
    "Similarly, for the sample 05552e5b6a without gravitational wave signal, we cannot visually see any signs. The strain is of the order , which is extremely small and can be affected by many external factors. However, as seen in both the sample plots, the strain data is a combination of many frequencies and analysing the signals in frequency domain, instead of the time domain, might give us better insights.\n",
    "\n",
    "A Fourier Transform is the most commonly used method in maths and signal processing, to decompose the signals into its constituent discrete frequencies. This spectrum of frequencies can be analyzed based on average, power or energy of the signal to get a spectral density plot. We will follow some of the concepts from this tutorial. As it says, one of the ways to visualize a raw signal in frequency domain is by plotting the amplitude spectral density (ASD)."
   ]
  },
  {
   "cell_type": "markdown",
   "id": "c0b6513c",
   "metadata": {},
   "source": [
    "### Spectral density plots"
   ]
  },
  {
   "cell_type": "code",
   "execution_count": null,
   "id": "1f929a69",
   "metadata": {},
   "outputs": [],
   "source": [
    "# let's define some signal parameters\n",
    "sample_rate = 2048 # data is provided at 2048 Hz\n",
    "signal_length = 2 # each signal lasts 2 s\n",
    "NFFT = 4*fs    # the Nyquist frequency -\n",
    "f_min = 20.\n",
    "f_max = fs/2"
   ]
  },
  {
   "cell_type": "code",
   "execution_count": null,
   "id": "19d0affa",
   "metadata": {},
   "outputs": [],
   "source": [
    "# plot ASD for sample w/ GW\n",
    "plot_asd(sample_gw_id,sample_rate,signal_length)"
   ]
  },
  {
   "cell_type": "code",
   "execution_count": null,
   "id": "783a471c",
   "metadata": {},
   "outputs": [],
   "source": [
    "plot_asd_mix(sample_gw_id,sample_rate,NFFT,f_min,f_max)"
   ]
  },
  {
   "cell_type": "markdown",
   "id": "2d92d275",
   "metadata": {},
   "source": [
    "These plots are plotted on a log scale for x-axis, and we see that it ranges from 10 Hz ~ 1000 Hz. Although, these limits are for visualization purposes only, it helps us see some peaks for each observatory. A particular frequency can be peculiar in one measurement but remember that the GW signal has to be detected in all three waves to be confirmed. This data here still seems a bit noisy and as showed in the tutorial, if sampled for longer periods of time (on real data), it can give some valuable insights. However, the data in this competition is simulated and we try to find other ways to visualize it.\n",
    "\n",
    "Just for the sake of completeness, we also plot the spectral density plots for a sample without GW."
   ]
  },
  {
   "cell_type": "code",
   "execution_count": null,
   "id": "c07f1e3a",
   "metadata": {},
   "outputs": [],
   "source": [
    "# plot ASD for sample w/o GW\n",
    "plot_asd(sample_no_gw_id)"
   ]
  },
  {
   "cell_type": "code",
   "execution_count": null,
   "id": "64ba3364",
   "metadata": {},
   "outputs": [],
   "source": [
    "plot_asd_mix(sample_no_gw_id,sample_rate,NFFT,f_min,f_max)"
   ]
  },
  {
   "cell_type": "markdown",
   "id": "a0442c0c",
   "metadata": {},
   "source": [
    "They do seem to have fewer peaks, specially around 200 Hz, but there is so much variability in this data, that it can be concluded with certainty."
   ]
  }
 ],
 "metadata": {
  "kernelspec": {
   "display_name": "Python 3 (ipykernel)",
   "language": "python",
   "name": "python3"
  },
  "language_info": {
   "codemirror_mode": {
    "name": "ipython",
    "version": 3
   },
   "file_extension": ".py",
   "mimetype": "text/x-python",
   "name": "python",
   "nbconvert_exporter": "python",
   "pygments_lexer": "ipython3",
   "version": "3.9.12"
  }
 },
 "nbformat": 4,
 "nbformat_minor": 5
}
